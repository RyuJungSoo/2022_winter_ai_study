{
  "nbformat": 4,
  "nbformat_minor": 0,
  "metadata": {
    "colab": {
      "name": "초음파 광물 예측하기: 학습셋과 테스트셋 구분.ipynb",
      "provenance": [],
      "authorship_tag": "ABX9TyP6Y6VbnlFTZIK0rVaOXyzA",
      "include_colab_link": true
    },
    "kernelspec": {
      "name": "python3",
      "display_name": "Python 3"
    },
    "language_info": {
      "name": "python"
    }
  },
  "cells": [
    {
      "cell_type": "markdown",
      "metadata": {
        "id": "view-in-github",
        "colab_type": "text"
      },
      "source": [
        "<a href=\"https://colab.research.google.com/github/RyuJungSoo/2022_winter_ai_study/blob/main/%EC%B4%88%EC%9D%8C%ED%8C%8C_%EA%B4%91%EB%AC%BC_%EC%98%88%EC%B8%A1%ED%95%98%EA%B8%B0_%ED%95%99%EC%8A%B5%EC%85%8B%EA%B3%BC_%ED%85%8C%EC%8A%A4%ED%8A%B8%EC%85%8B_%EA%B5%AC%EB%B6%84.ipynb\" target=\"_parent\"><img src=\"https://colab.research.google.com/assets/colab-badge.svg\" alt=\"Open In Colab\"/></a>"
      ]
    },
    {
      "cell_type": "code",
      "execution_count": 1,
      "metadata": {
        "id": "QnmejEw6ZPd_"
      },
      "outputs": [],
      "source": [
        "from keras.models import Sequential\n",
        "from keras.layers.core import Dense\n",
        "from sklearn.preprocessing import LabelEncoder\n",
        "from sklearn.model_selection import train_test_split\n",
        "\n",
        "import pandas as pd\n",
        "import numpy\n",
        "import tensorflow as tf"
      ]
    },
    {
      "cell_type": "code",
      "source": [
        "# seed 값 설정\n",
        "seed = 0\n",
        "numpy.random.seed(seed)\n",
        "tf.random.set_seed(3)\n",
        "\n",
        "# 데이터 입력\n",
        "df = pd.read_csv('../dataset/sonar.csv', header=None)\n",
        "\n",
        "dataset = df.values\n",
        "X = dataset[:,0:60].astype(numpy.float)\n",
        "Y_obj = dataset[:,60]"
      ],
      "metadata": {
        "id": "gHloypEzaI52"
      },
      "execution_count": 2,
      "outputs": []
    },
    {
      "cell_type": "code",
      "source": [
        "# 문자열 변환\n",
        "e = LabelEncoder()\n",
        "e.fit(Y_obj)\n",
        "Y = e.transform(Y_obj)"
      ],
      "metadata": {
        "id": "RG7YvrcebCgV"
      },
      "execution_count": 3,
      "outputs": []
    },
    {
      "cell_type": "code",
      "source": [
        "# 학습셋과 테스트셋의 구분\n",
        "X_train, X_test, Y_train, Y_test = train_test_split(X, Y, test_size = 0.3, random_state=seed)"
      ],
      "metadata": {
        "id": "NCogVrqwbbjU"
      },
      "execution_count": 4,
      "outputs": []
    },
    {
      "cell_type": "code",
      "source": [
        "# 모델 설정\n",
        "model = Sequential()\n",
        "model.add(Dense(24, input_dim=60, activation='relu'))\n",
        "model.add(Dense(10, activation='relu'))\n",
        "model.add(Dense(1,activation='sigmoid'))"
      ],
      "metadata": {
        "id": "ZQs1FX-XbzQu"
      },
      "execution_count": 5,
      "outputs": []
    },
    {
      "cell_type": "code",
      "source": [
        "# 모델 컴파일\n",
        "model.compile(loss='mean_squared_error', optimizer='adam', metrics=['accuracy'])  # 오차 함수로는 평균 제곱 오차 함수를 사용"
      ],
      "metadata": {
        "id": "FzyB0zwpcizN"
      },
      "execution_count": 6,
      "outputs": []
    },
    {
      "cell_type": "code",
      "source": [
        "# 모델 실행\n",
        "model.fit(X_train, Y_train, epochs=130, batch_size=5)"
      ],
      "metadata": {
        "colab": {
          "base_uri": "https://localhost:8080/"
        },
        "id": "MQ65otzhc0O9",
        "outputId": "f40147a9-9d0e-422d-d32a-a0f85b3114e1"
      },
      "execution_count": 7,
      "outputs": [
        {
          "output_type": "stream",
          "name": "stdout",
          "text": [
            "Epoch 1/130\n",
            "29/29 [==============================] - 1s 2ms/step - loss: 0.2472 - accuracy: 0.4897\n",
            "Epoch 2/130\n",
            "29/29 [==============================] - 0s 2ms/step - loss: 0.2317 - accuracy: 0.6414\n",
            "Epoch 3/130\n",
            "29/29 [==============================] - 0s 2ms/step - loss: 0.2241 - accuracy: 0.6207\n",
            "Epoch 4/130\n",
            "29/29 [==============================] - 0s 1ms/step - loss: 0.2139 - accuracy: 0.6897\n",
            "Epoch 5/130\n",
            "29/29 [==============================] - 0s 2ms/step - loss: 0.2034 - accuracy: 0.7379\n",
            "Epoch 6/130\n",
            "29/29 [==============================] - 0s 2ms/step - loss: 0.1925 - accuracy: 0.7517\n",
            "Epoch 7/130\n",
            "29/29 [==============================] - 0s 2ms/step - loss: 0.1819 - accuracy: 0.7517\n",
            "Epoch 8/130\n",
            "29/29 [==============================] - 0s 2ms/step - loss: 0.1729 - accuracy: 0.8069\n",
            "Epoch 9/130\n",
            "29/29 [==============================] - 0s 2ms/step - loss: 0.1650 - accuracy: 0.7862\n",
            "Epoch 10/130\n",
            "29/29 [==============================] - 0s 2ms/step - loss: 0.1618 - accuracy: 0.8069\n",
            "Epoch 11/130\n",
            "29/29 [==============================] - 0s 2ms/step - loss: 0.1544 - accuracy: 0.8138\n",
            "Epoch 12/130\n",
            "29/29 [==============================] - 0s 2ms/step - loss: 0.1552 - accuracy: 0.8000\n",
            "Epoch 13/130\n",
            "29/29 [==============================] - 0s 2ms/step - loss: 0.1497 - accuracy: 0.8000\n",
            "Epoch 14/130\n",
            "29/29 [==============================] - 0s 2ms/step - loss: 0.1435 - accuracy: 0.8069\n",
            "Epoch 15/130\n",
            "29/29 [==============================] - 0s 2ms/step - loss: 0.1390 - accuracy: 0.8207\n",
            "Epoch 16/130\n",
            "29/29 [==============================] - 0s 2ms/step - loss: 0.1364 - accuracy: 0.8000\n",
            "Epoch 17/130\n",
            "29/29 [==============================] - 0s 2ms/step - loss: 0.1333 - accuracy: 0.8345\n",
            "Epoch 18/130\n",
            "29/29 [==============================] - 0s 2ms/step - loss: 0.1266 - accuracy: 0.8345\n",
            "Epoch 19/130\n",
            "29/29 [==============================] - 0s 2ms/step - loss: 0.1308 - accuracy: 0.8276\n",
            "Epoch 20/130\n",
            "29/29 [==============================] - 0s 2ms/step - loss: 0.1214 - accuracy: 0.8621\n",
            "Epoch 21/130\n",
            "29/29 [==============================] - 0s 1ms/step - loss: 0.1186 - accuracy: 0.8690\n",
            "Epoch 22/130\n",
            "29/29 [==============================] - 0s 2ms/step - loss: 0.1154 - accuracy: 0.8483\n",
            "Epoch 23/130\n",
            "29/29 [==============================] - 0s 2ms/step - loss: 0.1124 - accuracy: 0.8621\n",
            "Epoch 24/130\n",
            "29/29 [==============================] - 0s 2ms/step - loss: 0.1077 - accuracy: 0.8897\n",
            "Epoch 25/130\n",
            "29/29 [==============================] - 0s 2ms/step - loss: 0.1102 - accuracy: 0.8414\n",
            "Epoch 26/130\n",
            "29/29 [==============================] - 0s 2ms/step - loss: 0.1029 - accuracy: 0.8621\n",
            "Epoch 27/130\n",
            "29/29 [==============================] - 0s 2ms/step - loss: 0.0996 - accuracy: 0.8690\n",
            "Epoch 28/130\n",
            "29/29 [==============================] - 0s 2ms/step - loss: 0.0958 - accuracy: 0.8828\n",
            "Epoch 29/130\n",
            "29/29 [==============================] - 0s 2ms/step - loss: 0.0939 - accuracy: 0.8759\n",
            "Epoch 30/130\n",
            "29/29 [==============================] - 0s 2ms/step - loss: 0.0955 - accuracy: 0.8759\n",
            "Epoch 31/130\n",
            "29/29 [==============================] - 0s 2ms/step - loss: 0.0956 - accuracy: 0.8690\n",
            "Epoch 32/130\n",
            "29/29 [==============================] - 0s 2ms/step - loss: 0.0897 - accuracy: 0.9034\n",
            "Epoch 33/130\n",
            "29/29 [==============================] - 0s 2ms/step - loss: 0.0836 - accuracy: 0.9034\n",
            "Epoch 34/130\n",
            "29/29 [==============================] - 0s 2ms/step - loss: 0.0850 - accuracy: 0.8966\n",
            "Epoch 35/130\n",
            "29/29 [==============================] - 0s 2ms/step - loss: 0.0785 - accuracy: 0.9103\n",
            "Epoch 36/130\n",
            "29/29 [==============================] - 0s 2ms/step - loss: 0.0766 - accuracy: 0.9103\n",
            "Epoch 37/130\n",
            "29/29 [==============================] - 0s 2ms/step - loss: 0.0729 - accuracy: 0.9172\n",
            "Epoch 38/130\n",
            "29/29 [==============================] - 0s 2ms/step - loss: 0.0715 - accuracy: 0.9310\n",
            "Epoch 39/130\n",
            "29/29 [==============================] - 0s 2ms/step - loss: 0.0680 - accuracy: 0.9310\n",
            "Epoch 40/130\n",
            "29/29 [==============================] - 0s 2ms/step - loss: 0.0694 - accuracy: 0.9379\n",
            "Epoch 41/130\n",
            "29/29 [==============================] - 0s 2ms/step - loss: 0.0683 - accuracy: 0.9241\n",
            "Epoch 42/130\n",
            "29/29 [==============================] - 0s 2ms/step - loss: 0.0639 - accuracy: 0.9379\n",
            "Epoch 43/130\n",
            "29/29 [==============================] - 0s 2ms/step - loss: 0.0661 - accuracy: 0.9241\n",
            "Epoch 44/130\n",
            "29/29 [==============================] - 0s 2ms/step - loss: 0.0611 - accuracy: 0.9379\n",
            "Epoch 45/130\n",
            "29/29 [==============================] - 0s 2ms/step - loss: 0.0559 - accuracy: 0.9379\n",
            "Epoch 46/130\n",
            "29/29 [==============================] - 0s 2ms/step - loss: 0.0544 - accuracy: 0.9379\n",
            "Epoch 47/130\n",
            "29/29 [==============================] - 0s 2ms/step - loss: 0.0516 - accuracy: 0.9517\n",
            "Epoch 48/130\n",
            "29/29 [==============================] - 0s 2ms/step - loss: 0.0493 - accuracy: 0.9448\n",
            "Epoch 49/130\n",
            "29/29 [==============================] - 0s 1ms/step - loss: 0.0455 - accuracy: 0.9517\n",
            "Epoch 50/130\n",
            "29/29 [==============================] - 0s 2ms/step - loss: 0.0462 - accuracy: 0.9655\n",
            "Epoch 51/130\n",
            "29/29 [==============================] - 0s 2ms/step - loss: 0.0468 - accuracy: 0.9448\n",
            "Epoch 52/130\n",
            "29/29 [==============================] - 0s 2ms/step - loss: 0.0427 - accuracy: 0.9586\n",
            "Epoch 53/130\n",
            "29/29 [==============================] - 0s 2ms/step - loss: 0.0422 - accuracy: 0.9517\n",
            "Epoch 54/130\n",
            "29/29 [==============================] - 0s 2ms/step - loss: 0.0353 - accuracy: 0.9793\n",
            "Epoch 55/130\n",
            "29/29 [==============================] - 0s 2ms/step - loss: 0.0368 - accuracy: 0.9724\n",
            "Epoch 56/130\n",
            "29/29 [==============================] - 0s 2ms/step - loss: 0.0326 - accuracy: 0.9931\n",
            "Epoch 57/130\n",
            "29/29 [==============================] - 0s 2ms/step - loss: 0.0323 - accuracy: 0.9862\n",
            "Epoch 58/130\n",
            "29/29 [==============================] - 0s 2ms/step - loss: 0.0332 - accuracy: 0.9862\n",
            "Epoch 59/130\n",
            "29/29 [==============================] - 0s 2ms/step - loss: 0.0305 - accuracy: 0.9931\n",
            "Epoch 60/130\n",
            "29/29 [==============================] - 0s 2ms/step - loss: 0.0296 - accuracy: 0.9793\n",
            "Epoch 61/130\n",
            "29/29 [==============================] - 0s 2ms/step - loss: 0.0279 - accuracy: 0.9862\n",
            "Epoch 62/130\n",
            "29/29 [==============================] - 0s 2ms/step - loss: 0.0282 - accuracy: 0.9862\n",
            "Epoch 63/130\n",
            "29/29 [==============================] - 0s 2ms/step - loss: 0.0255 - accuracy: 0.9793\n",
            "Epoch 64/130\n",
            "29/29 [==============================] - 0s 2ms/step - loss: 0.0233 - accuracy: 1.0000\n",
            "Epoch 65/130\n",
            "29/29 [==============================] - 0s 2ms/step - loss: 0.0215 - accuracy: 0.9931\n",
            "Epoch 66/130\n",
            "29/29 [==============================] - 0s 2ms/step - loss: 0.0233 - accuracy: 0.9862\n",
            "Epoch 67/130\n",
            "29/29 [==============================] - 0s 1ms/step - loss: 0.0177 - accuracy: 1.0000\n",
            "Epoch 68/130\n",
            "29/29 [==============================] - 0s 2ms/step - loss: 0.0198 - accuracy: 1.0000\n",
            "Epoch 69/130\n",
            "29/29 [==============================] - 0s 2ms/step - loss: 0.0195 - accuracy: 1.0000\n",
            "Epoch 70/130\n",
            "29/29 [==============================] - 0s 2ms/step - loss: 0.0274 - accuracy: 1.0000\n",
            "Epoch 71/130\n",
            "29/29 [==============================] - 0s 2ms/step - loss: 0.0175 - accuracy: 0.9931\n",
            "Epoch 72/130\n",
            "29/29 [==============================] - 0s 2ms/step - loss: 0.0150 - accuracy: 1.0000\n",
            "Epoch 73/130\n",
            "29/29 [==============================] - 0s 2ms/step - loss: 0.0211 - accuracy: 0.9862\n",
            "Epoch 74/130\n",
            "29/29 [==============================] - 0s 1ms/step - loss: 0.0138 - accuracy: 1.0000\n",
            "Epoch 75/130\n",
            "29/29 [==============================] - 0s 2ms/step - loss: 0.0133 - accuracy: 1.0000\n",
            "Epoch 76/130\n",
            "29/29 [==============================] - 0s 2ms/step - loss: 0.0128 - accuracy: 1.0000\n",
            "Epoch 77/130\n",
            "29/29 [==============================] - 0s 2ms/step - loss: 0.0124 - accuracy: 1.0000\n",
            "Epoch 78/130\n",
            "29/29 [==============================] - 0s 1ms/step - loss: 0.0147 - accuracy: 1.0000\n",
            "Epoch 79/130\n",
            "29/29 [==============================] - 0s 2ms/step - loss: 0.0129 - accuracy: 1.0000\n",
            "Epoch 80/130\n",
            "29/29 [==============================] - 0s 2ms/step - loss: 0.0119 - accuracy: 0.9931\n",
            "Epoch 81/130\n",
            "29/29 [==============================] - 0s 2ms/step - loss: 0.0100 - accuracy: 1.0000\n",
            "Epoch 82/130\n",
            "29/29 [==============================] - 0s 2ms/step - loss: 0.0115 - accuracy: 1.0000\n",
            "Epoch 83/130\n",
            "29/29 [==============================] - 0s 2ms/step - loss: 0.0107 - accuracy: 1.0000\n",
            "Epoch 84/130\n",
            "29/29 [==============================] - 0s 2ms/step - loss: 0.0100 - accuracy: 1.0000\n",
            "Epoch 85/130\n",
            "29/29 [==============================] - 0s 2ms/step - loss: 0.0080 - accuracy: 1.0000\n",
            "Epoch 86/130\n",
            "29/29 [==============================] - 0s 2ms/step - loss: 0.0073 - accuracy: 1.0000\n",
            "Epoch 87/130\n",
            "29/29 [==============================] - 0s 2ms/step - loss: 0.0073 - accuracy: 1.0000\n",
            "Epoch 88/130\n",
            "29/29 [==============================] - 0s 2ms/step - loss: 0.0079 - accuracy: 1.0000\n",
            "Epoch 89/130\n",
            "29/29 [==============================] - 0s 2ms/step - loss: 0.0067 - accuracy: 1.0000\n",
            "Epoch 90/130\n",
            "29/29 [==============================] - 0s 2ms/step - loss: 0.0074 - accuracy: 1.0000\n",
            "Epoch 91/130\n",
            "29/29 [==============================] - 0s 2ms/step - loss: 0.0078 - accuracy: 1.0000\n",
            "Epoch 92/130\n",
            "29/29 [==============================] - 0s 2ms/step - loss: 0.0065 - accuracy: 1.0000\n",
            "Epoch 93/130\n",
            "29/29 [==============================] - 0s 2ms/step - loss: 0.0068 - accuracy: 1.0000\n",
            "Epoch 94/130\n",
            "29/29 [==============================] - 0s 2ms/step - loss: 0.0050 - accuracy: 1.0000\n",
            "Epoch 95/130\n",
            "29/29 [==============================] - 0s 2ms/step - loss: 0.0057 - accuracy: 1.0000\n",
            "Epoch 96/130\n",
            "29/29 [==============================] - 0s 2ms/step - loss: 0.0046 - accuracy: 1.0000\n",
            "Epoch 97/130\n",
            "29/29 [==============================] - 0s 2ms/step - loss: 0.0046 - accuracy: 1.0000\n",
            "Epoch 98/130\n",
            "29/29 [==============================] - 0s 2ms/step - loss: 0.0051 - accuracy: 1.0000\n",
            "Epoch 99/130\n",
            "29/29 [==============================] - 0s 2ms/step - loss: 0.0042 - accuracy: 1.0000\n",
            "Epoch 100/130\n",
            "29/29 [==============================] - 0s 2ms/step - loss: 0.0040 - accuracy: 1.0000\n",
            "Epoch 101/130\n",
            "29/29 [==============================] - 0s 2ms/step - loss: 0.0037 - accuracy: 1.0000\n",
            "Epoch 102/130\n",
            "29/29 [==============================] - 0s 2ms/step - loss: 0.0040 - accuracy: 1.0000\n",
            "Epoch 103/130\n",
            "29/29 [==============================] - 0s 2ms/step - loss: 0.0043 - accuracy: 1.0000\n",
            "Epoch 104/130\n",
            "29/29 [==============================] - 0s 2ms/step - loss: 0.0037 - accuracy: 1.0000\n",
            "Epoch 105/130\n",
            "29/29 [==============================] - 0s 2ms/step - loss: 0.0042 - accuracy: 1.0000\n",
            "Epoch 106/130\n",
            "29/29 [==============================] - 0s 2ms/step - loss: 0.0042 - accuracy: 1.0000\n",
            "Epoch 107/130\n",
            "29/29 [==============================] - 0s 1ms/step - loss: 0.0031 - accuracy: 1.0000\n",
            "Epoch 108/130\n",
            "29/29 [==============================] - 0s 2ms/step - loss: 0.0029 - accuracy: 1.0000\n",
            "Epoch 109/130\n",
            "29/29 [==============================] - 0s 2ms/step - loss: 0.0034 - accuracy: 1.0000\n",
            "Epoch 110/130\n",
            "29/29 [==============================] - 0s 1ms/step - loss: 0.0029 - accuracy: 1.0000\n",
            "Epoch 111/130\n",
            "29/29 [==============================] - 0s 1ms/step - loss: 0.0028 - accuracy: 1.0000\n",
            "Epoch 112/130\n",
            "29/29 [==============================] - 0s 1ms/step - loss: 0.0025 - accuracy: 1.0000\n",
            "Epoch 113/130\n",
            "29/29 [==============================] - 0s 2ms/step - loss: 0.0023 - accuracy: 1.0000\n",
            "Epoch 114/130\n",
            "29/29 [==============================] - 0s 2ms/step - loss: 0.0023 - accuracy: 1.0000\n",
            "Epoch 115/130\n",
            "29/29 [==============================] - 0s 2ms/step - loss: 0.0025 - accuracy: 1.0000\n",
            "Epoch 116/130\n",
            "29/29 [==============================] - 0s 2ms/step - loss: 0.0021 - accuracy: 1.0000\n",
            "Epoch 117/130\n",
            "29/29 [==============================] - 0s 2ms/step - loss: 0.0024 - accuracy: 1.0000\n",
            "Epoch 118/130\n",
            "29/29 [==============================] - 0s 2ms/step - loss: 0.0020 - accuracy: 1.0000\n",
            "Epoch 119/130\n",
            "29/29 [==============================] - 0s 1ms/step - loss: 0.0021 - accuracy: 1.0000\n",
            "Epoch 120/130\n",
            "29/29 [==============================] - 0s 2ms/step - loss: 0.0019 - accuracy: 1.0000\n",
            "Epoch 121/130\n",
            "29/29 [==============================] - 0s 2ms/step - loss: 0.0021 - accuracy: 1.0000\n",
            "Epoch 122/130\n",
            "29/29 [==============================] - 0s 1ms/step - loss: 0.0019 - accuracy: 1.0000\n",
            "Epoch 123/130\n",
            "29/29 [==============================] - 0s 2ms/step - loss: 0.0019 - accuracy: 1.0000\n",
            "Epoch 124/130\n",
            "29/29 [==============================] - 0s 2ms/step - loss: 0.0017 - accuracy: 1.0000\n",
            "Epoch 125/130\n",
            "29/29 [==============================] - 0s 2ms/step - loss: 0.0021 - accuracy: 1.0000\n",
            "Epoch 126/130\n",
            "29/29 [==============================] - 0s 2ms/step - loss: 0.0017 - accuracy: 1.0000\n",
            "Epoch 127/130\n",
            "29/29 [==============================] - 0s 2ms/step - loss: 0.0015 - accuracy: 1.0000\n",
            "Epoch 128/130\n",
            "29/29 [==============================] - 0s 2ms/step - loss: 0.0014 - accuracy: 1.0000\n",
            "Epoch 129/130\n",
            "29/29 [==============================] - 0s 2ms/step - loss: 0.0014 - accuracy: 1.0000\n",
            "Epoch 130/130\n",
            "29/29 [==============================] - 0s 2ms/step - loss: 0.0014 - accuracy: 1.0000\n"
          ]
        },
        {
          "output_type": "execute_result",
          "data": {
            "text/plain": [
              "<keras.callbacks.History at 0x7f40e385f790>"
            ]
          },
          "metadata": {},
          "execution_count": 7
        }
      ]
    },
    {
      "cell_type": "code",
      "source": [
        "# 테스트셋에 모델 적용\n",
        "print(\"\\n Test Accuracy: %.4f\" %(model.evaluate(X_test, Y_test)[1]))"
      ],
      "metadata": {
        "colab": {
          "base_uri": "https://localhost:8080/"
        },
        "id": "bHaurz8idEv-",
        "outputId": "ab6a1432-d079-4331-c86d-79f8f69f3818"
      },
      "execution_count": 8,
      "outputs": [
        {
          "output_type": "stream",
          "name": "stdout",
          "text": [
            "2/2 [==============================] - 0s 7ms/step - loss: 0.1447 - accuracy: 0.8571\n",
            "\n",
            " Test Accuracy: 0.8571\n"
          ]
        }
      ]
    }
  ]
}