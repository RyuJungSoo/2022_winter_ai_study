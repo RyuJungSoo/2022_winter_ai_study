{
  "nbformat": 4,
  "nbformat_minor": 0,
  "metadata": {
    "colab": {
      "name": "MNIST 손글씨 인식하기: 컨볼루션 신경망 적용.ipynb",
      "provenance": [],
      "authorship_tag": "ABX9TyOfqoIhcKZT42ASHMn3C8OW",
      "include_colab_link": true
    },
    "kernelspec": {
      "name": "python3",
      "display_name": "Python 3"
    },
    "language_info": {
      "name": "python"
    },
    "accelerator": "GPU"
  },
  "cells": [
    {
      "cell_type": "markdown",
      "metadata": {
        "id": "view-in-github",
        "colab_type": "text"
      },
      "source": [
        "<a href=\"https://colab.research.google.com/github/RyuJungSoo/2022_winter_ai_study/blob/main/MNIST_%EC%86%90%EA%B8%80%EC%94%A8_%EC%9D%B8%EC%8B%9D%ED%95%98%EA%B8%B0_%EC%BB%A8%EB%B3%BC%EB%A3%A8%EC%85%98_%EC%8B%A0%EA%B2%BD%EB%A7%9D_%EC%A0%81%EC%9A%A9.ipynb\" target=\"_parent\"><img src=\"https://colab.research.google.com/assets/colab-badge.svg\" alt=\"Open In Colab\"/></a>"
      ]
    },
    {
      "cell_type": "code",
      "execution_count": 1,
      "metadata": {
        "id": "J6rsrJCNryGI"
      },
      "outputs": [],
      "source": [
        "from keras.datasets import mnist\n",
        "from keras.utils import np_utils\n",
        "from keras.models import Sequential\n",
        "from keras.layers import Dense, Dropout, Flatten, Conv2D, MaxPooling2D\n",
        "from keras.callbacks import ModelCheckpoint, EarlyStopping\n",
        "\n",
        "import matplotlib.pyplot as plt\n",
        "import numpy\n",
        "import os\n",
        "import tensorflow as tf"
      ]
    },
    {
      "cell_type": "code",
      "source": [
        "# seed 값 설정 \n",
        "seed = 0\n",
        "numpy.random.seed(seed)\n",
        "tf.random.set_seed(3)"
      ],
      "metadata": {
        "id": "0Jo51NJsr-Yi"
      },
      "execution_count": 2,
      "outputs": []
    },
    {
      "cell_type": "code",
      "source": [
        "# MNIST 데이터셋 불러오기\n",
        "(X_train, Y_train), (X_test, Y_test) = mnist.load_data()"
      ],
      "metadata": {
        "id": "J5iNf8o3sGuY"
      },
      "execution_count": 3,
      "outputs": []
    },
    {
      "cell_type": "code",
      "source": [
        "X_train = X_train.reshape(X_train.shape[0], 28, 28, 1).astype('float32') / 255  # 28x28 이면서 흑백인 데이터를 쓸 것이기 때문에 차원 맞춰주기, 케라스가 최적의 성능을 보이도록 255로 나누기\n",
        "X_test = X_test.reshape(X_test.shape[0],28, 28, 1).astype('float32') / 255   # 28x28 이면서 흑백인 데이터를 쓸 것이기 때문에 차원 맞춰주기, 케라스가 최적의 성능을 보이도록 255로 나누기"
      ],
      "metadata": {
        "id": "c0ofaQcivgyQ"
      },
      "execution_count": 4,
      "outputs": []
    },
    {
      "cell_type": "code",
      "source": [
        "# 바이너리화 과정\n",
        "Y_train = np_utils.to_categorical(Y_train)\n",
        "Y_test = np_utils.to_categorical(Y_test)\n"
      ],
      "metadata": {
        "id": "K8PAoGeiv-6B"
      },
      "execution_count": 5,
      "outputs": []
    },
    {
      "cell_type": "code",
      "source": [
        "# 컨볼루션 신경망 설정\n",
        "model = Sequential()\n",
        "model.add(Conv2D(32, kernel_size=(3,3), input_shape=(28, 28, 1), activation='relu')) # convolution 층 1\n",
        "model.add(Conv2D(64, (3,3), activation='relu')) # convolution 층 2\n",
        "model.add(MaxPooling2D(pool_size=2)) # 맥스 풀링\n",
        "model.add(Dropout(0.25)) # 드롭아웃 25%\n",
        "model.add(Flatten()) # 플래튼 (Dense 레이어를 쓰기 위해 1차원 배열로 변환)\n",
        "model.add(Dense(128, activation='relu')) \n",
        "model.add(Dropout(0.5)) # 드롭아웃 50%\n",
        "model.add(Dense(10, activation='softmax'))"
      ],
      "metadata": {
        "id": "xWzqfFMKGFwi"
      },
      "execution_count": 6,
      "outputs": []
    },
    {
      "cell_type": "code",
      "source": [
        "# 모델 실행 환경 설정\n",
        "model.compile(loss = 'categorical_crossentropy', optimizer = 'adam', metrics = ['accuracy'])\n",
        "\n",
        "# 모델 최적화 설정\n",
        "MODEL_DIR = '../model/'\n",
        "if not os.path.exists(MODEL_DIR):\n",
        "  os.mkdir(MODEL_DIR)\n",
        "\n",
        "modelpath = \"../model/{epoch: 02d}-{val_loss: .4f}.hdf5\"\n",
        "checkpointer = ModelCheckpoint(filepath=modelpath, monitor = 'val_loss', verbose = 1, svae_best_only = True) # 오차가 개선될 때만 모델 저장\n",
        "early_stopping_callback = EarlyStopping(monitor='val_loss', patience=10) # 10번 반복해도 오차가 개선되지 않으면 중지"
      ],
      "metadata": {
        "id": "kkpGy_ylqqTO"
      },
      "execution_count": 7,
      "outputs": []
    },
    {
      "cell_type": "code",
      "source": [
        "# 모델의 실행\n",
        "history = model.fit(X_train, Y_train, validation_data = (X_test, Y_test), epochs=30, batch_size = 200, verbose = 0, callbacks=[early_stopping_callback, checkpointer])"
      ],
      "metadata": {
        "colab": {
          "base_uri": "https://localhost:8080/"
        },
        "id": "IAG0Sz6yunFG",
        "outputId": "3939d47f-15ea-4bdf-d6db-64ea844a448a"
      },
      "execution_count": 8,
      "outputs": [
        {
          "output_type": "stream",
          "name": "stdout",
          "text": [
            "\n",
            "Epoch 00001: saving model to ../model/ 1- 0.0547.hdf5\n",
            "\n",
            "Epoch 00002: saving model to ../model/ 2- 0.0400.hdf5\n",
            "\n",
            "Epoch 00003: saving model to ../model/ 3- 0.0368.hdf5\n",
            "\n",
            "Epoch 00004: saving model to ../model/ 4- 0.0343.hdf5\n",
            "\n",
            "Epoch 00005: saving model to ../model/ 5- 0.0316.hdf5\n",
            "\n",
            "Epoch 00006: saving model to ../model/ 6- 0.0283.hdf5\n",
            "\n",
            "Epoch 00007: saving model to ../model/ 7- 0.0315.hdf5\n",
            "\n",
            "Epoch 00008: saving model to ../model/ 8- 0.0293.hdf5\n",
            "\n",
            "Epoch 00009: saving model to ../model/ 9- 0.0308.hdf5\n",
            "\n",
            "Epoch 00010: saving model to ../model/ 10- 0.0339.hdf5\n",
            "\n",
            "Epoch 00011: saving model to ../model/ 11- 0.0305.hdf5\n",
            "\n",
            "Epoch 00012: saving model to ../model/ 12- 0.0285.hdf5\n",
            "\n",
            "Epoch 00013: saving model to ../model/ 13- 0.0260.hdf5\n",
            "\n",
            "Epoch 00014: saving model to ../model/ 14- 0.0301.hdf5\n",
            "\n",
            "Epoch 00015: saving model to ../model/ 15- 0.0291.hdf5\n",
            "\n",
            "Epoch 00016: saving model to ../model/ 16- 0.0251.hdf5\n",
            "\n",
            "Epoch 00017: saving model to ../model/ 17- 0.0283.hdf5\n",
            "\n",
            "Epoch 00018: saving model to ../model/ 18- 0.0283.hdf5\n",
            "\n",
            "Epoch 00019: saving model to ../model/ 19- 0.0299.hdf5\n",
            "\n",
            "Epoch 00020: saving model to ../model/ 20- 0.0308.hdf5\n",
            "\n",
            "Epoch 00021: saving model to ../model/ 21- 0.0319.hdf5\n",
            "\n",
            "Epoch 00022: saving model to ../model/ 22- 0.0275.hdf5\n",
            "\n",
            "Epoch 00023: saving model to ../model/ 23- 0.0302.hdf5\n",
            "\n",
            "Epoch 00024: saving model to ../model/ 24- 0.0303.hdf5\n",
            "\n",
            "Epoch 00025: saving model to ../model/ 25- 0.0295.hdf5\n",
            "\n",
            "Epoch 00026: saving model to ../model/ 26- 0.0322.hdf5\n"
          ]
        }
      ]
    },
    {
      "cell_type": "code",
      "source": [
        "# 테스트 정확도 출력\n",
        "print(\"\\n Test Accuracy: %.4f\" %(model.evaluate(X_test, Y_test)[1]))"
      ],
      "metadata": {
        "colab": {
          "base_uri": "https://localhost:8080/"
        },
        "id": "06lLr93Yu4Yl",
        "outputId": "19c26129-6f8b-4f7a-9fad-b07e869ad53a"
      },
      "execution_count": 9,
      "outputs": [
        {
          "output_type": "stream",
          "name": "stdout",
          "text": [
            "313/313 [==============================] - 2s 6ms/step - loss: 0.0322 - accuracy: 0.9923\n",
            "\n",
            " Test Accuracy: 0.9923\n"
          ]
        }
      ]
    },
    {
      "cell_type": "code",
      "source": [
        "# 테스트셋의 오차\n",
        "y_vloss = history.history['val_loss']\n",
        "\n",
        "# 학습셋의 오차\n",
        "y_loss = history.history['loss']"
      ],
      "metadata": {
        "id": "LDN0T1hMvG-U"
      },
      "execution_count": 10,
      "outputs": []
    },
    {
      "cell_type": "code",
      "source": [
        "# 그래프로 표현\n",
        "x_len = numpy.arange(len(y_loss))\n",
        "plt.plot(x_len, y_vloss, marker='.', c = \"red\", label = 'Testset_loss')\n",
        "plt.plot(x_len, y_loss, marker='.', c = \"blue\", label = 'Trainset_loss')\n",
        "\n",
        "# 그래프에 그리드를 주고 레이블을 표시\n",
        "plt.legend(loc='upper right')\n",
        "plt.grid()\n",
        "plt.xlabel('epoch')\n",
        "plt.ylabel('loss')\n",
        "plt.show()"
      ],
      "metadata": {
        "colab": {
          "base_uri": "https://localhost:8080/",
          "height": 279
        },
        "id": "RUGLEfkZvWq-",
        "outputId": "c9a42575-edc2-41a8-ecb8-65673fe8a8c0"
      },
      "execution_count": 11,
      "outputs": [
        {
          "output_type": "display_data",
          "data": {
            "image/png": "[encoded data removed]",
            "text/plain": [
              "<Figure size 432x288 with 1 Axes>"
            ]
          },
          "metadata": {
            "needs_background": "light"
          }
        }
      ]
    }
  ]
}