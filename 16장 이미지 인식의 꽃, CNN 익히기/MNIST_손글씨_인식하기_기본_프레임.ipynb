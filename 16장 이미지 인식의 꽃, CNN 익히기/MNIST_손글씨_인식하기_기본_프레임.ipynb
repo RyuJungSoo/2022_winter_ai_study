{
  "nbformat": 4,
  "nbformat_minor": 0,
  "metadata": {
    "colab": {
      "name": "MNIST 손글씨 인식하기: 기본 프레임.ipynb",
      "provenance": [],
      "authorship_tag": "ABX9TyMMSuiH0bF6wIprMeasK97R",
      "include_colab_link": true
    },
    "kernelspec": {
      "name": "python3",
      "display_name": "Python 3"
    },
    "language_info": {
      "name": "python"
    }
  },
  "cells": [
    {
      "cell_type": "markdown",
      "metadata": {
        "id": "view-in-github",
        "colab_type": "text"
      },
      "source": [
        "<a href=\"https://colab.research.google.com/github/RyuJungSoo/2022_winter_ai_study/blob/main/MNIST_%EC%86%90%EA%B8%80%EC%94%A8_%EC%9D%B8%EC%8B%9D%ED%95%98%EA%B8%B0_%EA%B8%B0%EB%B3%B8_%ED%94%84%EB%A0%88%EC%9E%84.ipynb\" target=\"_parent\"><img src=\"https://colab.research.google.com/assets/colab-badge.svg\" alt=\"Open In Colab\"/></a>"
      ]
    },
    {
      "cell_type": "code",
      "execution_count": 3,
      "metadata": {
        "id": "J6rsrJCNryGI"
      },
      "outputs": [],
      "source": [
        "from keras.datasets import mnist\n",
        "from keras.utils import np_utils\n",
        "from keras.models import Sequential\n",
        "from keras.layers import Dense\n",
        "from keras.callbacks import ModelCheckpoint, EarlyStopping\n",
        "\n",
        "import matplotlib.pyplot as plt\n",
        "import numpy\n",
        "import os\n",
        "import tensorflow as tf"
      ]
    },
    {
      "cell_type": "code",
      "source": [
        "# seed 값 설정 \n",
        "seed = 0\n",
        "numpy.random.seed(seed)\n",
        "tf.random.set_seed(3)"
      ],
      "metadata": {
        "id": "0Jo51NJsr-Yi"
      },
      "execution_count": 4,
      "outputs": []
    },
    {
      "cell_type": "code",
      "source": [
        "# MNIST 데이터셋 불러오기\n",
        "(X_train, Y_train), (X_test, Y_test) = mnist.load_data()"
      ],
      "metadata": {
        "id": "J5iNf8o3sGuY",
        "colab": {
          "base_uri": "https://localhost:8080/"
        },
        "outputId": "25c9d839-737e-424f-dab4-7b0d48dc5e8a"
      },
      "execution_count": 5,
      "outputs": [
        {
          "output_type": "stream",
          "name": "stdout",
          "text": [
            "Downloading data from https://storage.googleapis.com/tensorflow/tf-keras-datasets/mnist.npz\n",
            "11493376/11490434 [==============================] - 0s 0us/step\n",
            "11501568/11490434 [==============================] - 0s 0us/step\n"
          ]
        }
      ]
    },
    {
      "cell_type": "code",
      "source": [
        "X_train = X_train.reshape(X_train.shape[0], 784).astype('float32') / 255 # 케라스가 최적의 성능을 보이도록 255로 나누기\n",
        "X_test = X_test.reshape(X_test.shape[0],784).astype('float32') / 255  # 케라스가 최적의 성능을 보이도록 255로 나누기"
      ],
      "metadata": {
        "id": "c0ofaQcivgyQ"
      },
      "execution_count": 6,
      "outputs": []
    },
    {
      "cell_type": "code",
      "source": [
        "# 바이너리화 과정\n",
        "Y_train = np_utils.to_categorical(Y_train, 10)\n",
        "Y_test = np_utils.to_categorical(Y_test, 10)\n"
      ],
      "metadata": {
        "id": "K8PAoGeiv-6B"
      },
      "execution_count": 7,
      "outputs": []
    },
    {
      "cell_type": "code",
      "source": [
        "# 모델 프레임 설정\n",
        "model = Sequential()\n",
        "model.add(Dense(512, input_dim=784, activation='relu'))\n",
        "model.add(Dense(10, activation='softmax'))"
      ],
      "metadata": {
        "id": "xWzqfFMKGFwi"
      },
      "execution_count": 8,
      "outputs": []
    },
    {
      "cell_type": "code",
      "source": [
        "# 모델 실행 환경 설정\n",
        "model.compile(loss = 'categorical_crossentropy', optimizer = 'adam', metrics = ['accuracy'])\n",
        "\n",
        "# 모델 최적화 설정\n",
        "MODEL_DIR = '../model/'\n",
        "if not os.path.exists(MODEL_DIR):\n",
        "  os.mkdir(MODEL_DIR)\n",
        "\n",
        "modelpath = \"../model/{epoch: 02d}-{val_loss: .4f}.hdf5\"\n",
        "checkpointer = ModelCheckpoint(filepath=modelpath, monitor = 'val_loss', verbose = 1, svae_best_only = True)\n",
        "early_stopping_callback = EarlyStopping(monitor='val_loss', patience=10)"
      ],
      "metadata": {
        "id": "kkpGy_ylqqTO"
      },
      "execution_count": 9,
      "outputs": []
    },
    {
      "cell_type": "code",
      "source": [
        "# 모델의 실행\n",
        "history = model.fit(X_train, Y_train, validation_data = (X_test, Y_test), epochs=30, batch_size = 200, verbose = 0, callbacks=[early_stopping_callback, checkpointer])"
      ],
      "metadata": {
        "colab": {
          "base_uri": "https://localhost:8080/"
        },
        "id": "IAG0Sz6yunFG",
        "outputId": "ced248aa-57dd-45f3-b20d-c3127c9952dc"
      },
      "execution_count": 10,
      "outputs": [
        {
          "output_type": "stream",
          "name": "stdout",
          "text": [
            "\n",
            "Epoch 00001: saving model to ../model/ 1- 0.1475.hdf5\n",
            "\n",
            "Epoch 00002: saving model to ../model/ 2- 0.1018.hdf5\n",
            "\n",
            "Epoch 00003: saving model to ../model/ 3- 0.0887.hdf5\n",
            "\n",
            "Epoch 00004: saving model to ../model/ 4- 0.0782.hdf5\n",
            "\n",
            "Epoch 00005: saving model to ../model/ 5- 0.0742.hdf5\n",
            "\n",
            "Epoch 00006: saving model to ../model/ 6- 0.0675.hdf5\n",
            "\n",
            "Epoch 00007: saving model to ../model/ 7- 0.0650.hdf5\n",
            "\n",
            "Epoch 00008: saving model to ../model/ 8- 0.0632.hdf5\n",
            "\n",
            "Epoch 00009: saving model to ../model/ 9- 0.0633.hdf5\n",
            "\n",
            "Epoch 00010: saving model to ../model/ 10- 0.0621.hdf5\n",
            "\n",
            "Epoch 00011: saving model to ../model/ 11- 0.0673.hdf5\n",
            "\n",
            "Epoch 00012: saving model to ../model/ 12- 0.0705.hdf5\n",
            "\n",
            "Epoch 00013: saving model to ../model/ 13- 0.0594.hdf5\n",
            "\n",
            "Epoch 00014: saving model to ../model/ 14- 0.0646.hdf5\n",
            "\n",
            "Epoch 00015: saving model to ../model/ 15- 0.0679.hdf5\n",
            "\n",
            "Epoch 00016: saving model to ../model/ 16- 0.0693.hdf5\n",
            "\n",
            "Epoch 00017: saving model to ../model/ 17- 0.0699.hdf5\n",
            "\n",
            "Epoch 00018: saving model to ../model/ 18- 0.0796.hdf5\n",
            "\n",
            "Epoch 00019: saving model to ../model/ 19- 0.1073.hdf5\n",
            "\n",
            "Epoch 00020: saving model to ../model/ 20- 0.0685.hdf5\n",
            "\n",
            "Epoch 00021: saving model to ../model/ 21- 0.0757.hdf5\n",
            "\n",
            "Epoch 00022: saving model to ../model/ 22- 0.0695.hdf5\n",
            "\n",
            "Epoch 00023: saving model to ../model/ 23- 0.0694.hdf5\n"
          ]
        }
      ]
    },
    {
      "cell_type": "code",
      "source": [
        "# 테스트 정확도 출력\n",
        "print(\"\\n Test Accuracy: %.4f\" %(model.evaluate(X_test, Y_test)[1]))"
      ],
      "metadata": {
        "colab": {
          "base_uri": "https://localhost:8080/"
        },
        "id": "06lLr93Yu4Yl",
        "outputId": "f8daa14c-4031-43df-8034-9b56cc78f2a8"
      },
      "execution_count": 11,
      "outputs": [
        {
          "output_type": "stream",
          "name": "stdout",
          "text": [
            "313/313 [==============================] - 1s 4ms/step - loss: 0.0694 - accuracy: 0.9834\n",
            "\n",
            " Test Accuracy: 0.9834\n"
          ]
        }
      ]
    },
    {
      "cell_type": "code",
      "source": [
        "# 테스트셋의 오차\n",
        "y_vloss = history.history['val_loss']\n",
        "\n",
        "# 학습셋의 오차\n",
        "y_loss = history.history['loss']"
      ],
      "metadata": {
        "id": "LDN0T1hMvG-U"
      },
      "execution_count": 12,
      "outputs": []
    },
    {
      "cell_type": "code",
      "source": [
        "# 그래프로 표현\n",
        "x_len = numpy.arange(len(y_loss))\n",
        "plt.plot(x_len, y_vloss, marker='.', c = \"red\", label = 'Testset_loss')\n",
        "plt.plot(x_len, y_loss, marker='.', c = \"blue\", label = 'Trainset_loss')\n",
        "\n",
        "# 그래프에 그리드를 주고 레이블을 표시\n",
        "plt.legend(loc='upper right')\n",
        "# plt.axis([0, 20, 0, 0.35])\n",
        "plt.grid()\n",
        "plt.xlabel('epoch')\n",
        "plt.ylabel('loss')\n",
        "plt.show()"
      ],
      "metadata": {
        "colab": {
          "base_uri": "https://localhost:8080/",
          "height": 279
        },
        "id": "RUGLEfkZvWq-",
        "outputId": "cde3680d-808e-4d2c-d428-b353047753b6"
      },
      "execution_count": 15,
      "outputs": [
        {
          "output_type": "display_data",
          "data": {
            "image/png": "[encoded data removed]",
            "text/plain": [
              "<Figure size 432x288 with 1 Axes>"
            ]
          },
          "metadata": {
            "needs_background": "light"
          }
        }
      ]
    }
  ]
}
