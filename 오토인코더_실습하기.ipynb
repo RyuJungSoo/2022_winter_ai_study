{
  "nbformat": 4,
  "nbformat_minor": 0,
  "metadata": {
    "colab": {
      "name": "오토인코더 실습하기.ipynb",
      "provenance": [],
      "collapsed_sections": [],
      "authorship_tag": "ABX9TyOhB2x/4pu0S3r8IbLb9+fn",
      "include_colab_link": true
    },
    "kernelspec": {
      "name": "python3",
      "display_name": "Python 3"
    },
    "language_info": {
      "name": "python"
    },
    "accelerator": "GPU"
  },
  "cells": [
    {
      "cell_type": "markdown",
      "metadata": {
        "id": "view-in-github",
        "colab_type": "text"
      },
      "source": [
        "<a href=\"https://colab.research.google.com/github/RyuJungSoo/2022_winter_ai_study/blob/main/%EC%98%A4%ED%86%A0%EC%9D%B8%EC%BD%94%EB%8D%94_%EC%8B%A4%EC%8A%B5%ED%95%98%EA%B8%B0.ipynb\" target=\"_parent\"><img src=\"https://colab.research.google.com/assets/colab-badge.svg\" alt=\"Open In Colab\"/></a>"
      ]
    },
    {
      "cell_type": "code",
      "execution_count": 1,
      "metadata": {
        "id": "OLwGMK0ZwN_K"
      },
      "outputs": [],
      "source": [
        "from tensorflow.keras.datasets import mnist\n",
        "from tensorflow.keras.models import Sequential, Model\n",
        "from tensorflow.keras.layers import Input, Dense, Conv2D, MaxPooling2D, UpSampling2D, Flatten, Reshape\n",
        "\n",
        "import matplotlib.pyplot as plt\n",
        "import numpy as np"
      ]
    },
    {
      "cell_type": "code",
      "source": [
        "# MNIST 데이터 셋을 호출\n",
        "(X_train, _), (X_test, _) = mnist.load_data()\n",
        "X_train = X_train.reshape(X_train.shape[0], 28, 28, 1).astype('float32') / 255\n",
        "X_test = X_test.reshape(X_test.shape[0], 28, 28, 1).astype('float32') / 255"
      ],
      "metadata": {
        "colab": {
          "base_uri": "https://localhost:8080/"
        },
        "id": "Mag9zY7mwml8",
        "outputId": "32ca39e3-8b51-4ea9-89d7-41d957023dee"
      },
      "execution_count": 2,
      "outputs": [
        {
          "output_type": "stream",
          "name": "stdout",
          "text": [
            "Downloading data from https://storage.googleapis.com/tensorflow/tf-keras-datasets/mnist.npz\n",
            "11493376/11490434 [==============================] - 0s 0us/step\n",
            "11501568/11490434 [==============================] - 0s 0us/step\n"
          ]
        }
      ]
    },
    {
      "cell_type": "code",
      "source": [
        "# 생성자 모델 만들기\n",
        "autoencoder = Sequential()\n",
        "\n",
        "# 인코딩 부분(입력된 값의 차원을 축소)\n",
        "autoencoder.add(Conv2D(16, kernel_size = 3, padding = 'same', input_shape=(28,28,1), activation='relu')) # 컨볼루션 과정 처리(노드 수는 3, 커널 크기는 3x3, padding='same'이므로 입력과 출력의 크기가 다를 경우 자동으로 크기를 조절한다., input값의 크기는 28x28, 활성화 함수는 relu)\n",
        "autoencoder.add(MaxPooling2D(pool_size=2, padding='same')) # 28x28 -> 14x14\n",
        "autoencoder.add(Conv2D(8, kernel_size =3, activation='relu', padding='same')) # 컨볼루션 과정 처리(노드 수는 8, 커널 크기는 3x3, 활성화함수는 relu, padding='same'이므로 입력과 출력의 크기가 다를 경우 자동으로 크기를 조절한다.)\n",
        "autoencoder.add(MaxPooling2D(pool_size=2, padding='same'))  # 14x14 -> 7x7 (padding이 적용되어 빈자리를 0으로 채워줌, 7은 홀수여서 커널이 2칸씩 이동할 수 없음)\n",
        "autoencoder.add(Conv2D(8, kernel_size=3, strides=2, padding='same', activation='relu')) # 컨볼루션 과정 처리(노드 수는 8, 커널 크기는 3x3, stride=2이므로 커널 윈도를 2칸씩 움직이기, 활성화함수는 relu, padding='same'이므로 입력과 출력의 크기가 다를 경우 자동으로 크기를 조절한다.)\n",
        "\n",
        "\n",
        "# 디코딩 부분(다시 차원을 점차 늘려 입력 값과 똑같은 크기의 출력 값을 내보냄)\n",
        "autoencoder.add(Conv2D(8, kernel_size=3, padding='same', activation='relu'))  # 컨볼루션 과정 처리(노드 수는 8, 커널 크기는 3x3, 활성화함수는 relu, padding='same'이므로 입력과 출력의 크기가 다를 경우 자동으로 크기를 조절한다.)\n",
        "autoencoder.add(UpSampling2D()) # 4x4 -> 8x8\n",
        "autoencoder.add(Conv2D(16, kernel_size=3, padding='same', activation='relu')) # 컨볼루션 과정 처리(노드 수는 16, 커널 크기는 3x3, 활성화함수는 relu, padding='same'이므로 입력과 출력의 크기가 다를 경우 자동으로 크기를 조절한다.)\n",
        "autoencoder.add(UpSampling2D()) # 8x8 -> 16x16\n",
        "autoencoder.add(Conv2D(16, kernel_size=3, activation='relu')) # 컨볼루션 과정 처리(노드 수는 16, 커널 크기는 3x3, 활성화함수는 relu), padding 옵션이 없으므로 커널이 적용되면서 크기가 줄어듬\n",
        "autoencoder.add(UpSampling2D()) # 14x14(바로 윗줄에 padding 옵션이 없으므로 줄어듬) -> 28x28\n",
        "autoencoder.add(Conv2D(1, kernel_size=3, padding='same', activation='sigmoid')) # 컨볼루션 과정 처리(노드 수는 1, 커널 크기는 3x3, 활성화함수는 sigmoid, padding='same'이므로 입력과 출력의 크기가 다를 경우 자동으로 크기를 조절한다.)"
      ],
      "metadata": {
        "id": "WWV8_iFXxJ0y"
      },
      "execution_count": 3,
      "outputs": []
    },
    {
      "cell_type": "code",
      "source": [
        "# 전체 구조 확인\n",
        "autoencoder.summary()"
      ],
      "metadata": {
        "colab": {
          "base_uri": "https://localhost:8080/"
        },
        "id": "eHUEtQtUzJHs",
        "outputId": "dffcfd09-27e4-45d9-d3a3-15beee019256"
      },
      "execution_count": 4,
      "outputs": [
        {
          "output_type": "stream",
          "name": "stdout",
          "text": [
            "Model: \"sequential\"\n",
            "_________________________________________________________________\n",
            " Layer (type)                Output Shape              Param #   \n",
            "=================================================================\n",
            " conv2d (Conv2D)             (None, 28, 28, 16)        160       \n",
            "                                                                 \n",
            " max_pooling2d (MaxPooling2D  (None, 14, 14, 16)       0         \n",
            " )                                                               \n",
            "                                                                 \n",
            " conv2d_1 (Conv2D)           (None, 14, 14, 8)         1160      \n",
            "                                                                 \n",
            " max_pooling2d_1 (MaxPooling  (None, 7, 7, 8)          0         \n",
            " 2D)                                                             \n",
            "                                                                 \n",
            " conv2d_2 (Conv2D)           (None, 4, 4, 8)           584       \n",
            "                                                                 \n",
            " conv2d_3 (Conv2D)           (None, 4, 4, 8)           584       \n",
            "                                                                 \n",
            " up_sampling2d (UpSampling2D  (None, 8, 8, 8)          0         \n",
            " )                                                               \n",
            "                                                                 \n",
            " conv2d_4 (Conv2D)           (None, 8, 8, 16)          1168      \n",
            "                                                                 \n",
            " up_sampling2d_1 (UpSampling  (None, 16, 16, 16)       0         \n",
            " 2D)                                                             \n",
            "                                                                 \n",
            " conv2d_5 (Conv2D)           (None, 14, 14, 16)        2320      \n",
            "                                                                 \n",
            " up_sampling2d_2 (UpSampling  (None, 28, 28, 16)       0         \n",
            " 2D)                                                             \n",
            "                                                                 \n",
            " conv2d_6 (Conv2D)           (None, 28, 28, 1)         145       \n",
            "                                                                 \n",
            "=================================================================\n",
            "Total params: 6,121\n",
            "Trainable params: 6,121\n",
            "Non-trainable params: 0\n",
            "_________________________________________________________________\n"
          ]
        }
      ]
    },
    {
      "cell_type": "code",
      "source": [
        "# 컴파일 및 학습을 하는 부분입니다.\n",
        "autoencoder.compile(optimizer='adam', loss='binary_crossentropy')\n",
        "autoencoder.fit(X_train, X_train, epochs=50, batch_size=128, validation_data=(X_test, X_test))\n",
        "\n",
        "# 테스트할 이미지를 랜덤하게 불러옵니다.\n",
        "random_test = np.random.randint(X_test.shape[0], size=5)  "
      ],
      "metadata": {
        "colab": {
          "base_uri": "https://localhost:8080/"
        },
        "id": "d3O8CSlazWi7",
        "outputId": "298f376b-7bdc-4696-dcc5-40565345d041"
      },
      "execution_count": 5,
      "outputs": [
        {
          "output_type": "stream",
          "name": "stdout",
          "text": [
            "Epoch 1/50\n",
            "469/469 [==============================] - 19s 8ms/step - loss: 0.1969 - val_loss: 0.1258\n",
            "Epoch 2/50\n",
            "469/469 [==============================] - 3s 7ms/step - loss: 0.1172 - val_loss: 0.1093\n",
            "Epoch 3/50\n",
            "469/469 [==============================] - 3s 7ms/step - loss: 0.1067 - val_loss: 0.1029\n",
            "Epoch 4/50\n",
            "469/469 [==============================] - 3s 7ms/step - loss: 0.1020 - val_loss: 0.0990\n",
            "Epoch 5/50\n",
            "469/469 [==============================] - 3s 7ms/step - loss: 0.0990 - val_loss: 0.0966\n",
            "Epoch 6/50\n",
            "469/469 [==============================] - 3s 7ms/step - loss: 0.0966 - val_loss: 0.0944\n",
            "Epoch 7/50\n",
            "469/469 [==============================] - 3s 7ms/step - loss: 0.0946 - val_loss: 0.0925\n",
            "Epoch 8/50\n",
            "469/469 [==============================] - 3s 7ms/step - loss: 0.0929 - val_loss: 0.0912\n",
            "Epoch 9/50\n",
            "469/469 [==============================] - 3s 7ms/step - loss: 0.0914 - val_loss: 0.0896\n",
            "Epoch 10/50\n",
            "469/469 [==============================] - 3s 7ms/step - loss: 0.0901 - val_loss: 0.0883\n",
            "Epoch 11/50\n",
            "469/469 [==============================] - 3s 7ms/step - loss: 0.0890 - val_loss: 0.0882\n",
            "Epoch 12/50\n",
            "469/469 [==============================] - 3s 7ms/step - loss: 0.0880 - val_loss: 0.0875\n",
            "Epoch 13/50\n",
            "469/469 [==============================] - 3s 7ms/step - loss: 0.0873 - val_loss: 0.0860\n",
            "Epoch 14/50\n",
            "469/469 [==============================] - 3s 7ms/step - loss: 0.0866 - val_loss: 0.0852\n",
            "Epoch 15/50\n",
            "469/469 [==============================] - 3s 7ms/step - loss: 0.0860 - val_loss: 0.0847\n",
            "Epoch 16/50\n",
            "469/469 [==============================] - 3s 7ms/step - loss: 0.0855 - val_loss: 0.0844\n",
            "Epoch 17/50\n",
            "469/469 [==============================] - 3s 7ms/step - loss: 0.0851 - val_loss: 0.0837\n",
            "Epoch 18/50\n",
            "469/469 [==============================] - 3s 7ms/step - loss: 0.0846 - val_loss: 0.0833\n",
            "Epoch 19/50\n",
            "469/469 [==============================] - 3s 7ms/step - loss: 0.0842 - val_loss: 0.0831\n",
            "Epoch 20/50\n",
            "469/469 [==============================] - 3s 7ms/step - loss: 0.0838 - val_loss: 0.0830\n",
            "Epoch 21/50\n",
            "469/469 [==============================] - 3s 7ms/step - loss: 0.0835 - val_loss: 0.0825\n",
            "Epoch 22/50\n",
            "469/469 [==============================] - 3s 7ms/step - loss: 0.0832 - val_loss: 0.0824\n",
            "Epoch 23/50\n",
            "469/469 [==============================] - 3s 7ms/step - loss: 0.0829 - val_loss: 0.0818\n",
            "Epoch 24/50\n",
            "469/469 [==============================] - 3s 7ms/step - loss: 0.0826 - val_loss: 0.0815\n",
            "Epoch 25/50\n",
            "469/469 [==============================] - 3s 7ms/step - loss: 0.0823 - val_loss: 0.0819\n",
            "Epoch 26/50\n",
            "469/469 [==============================] - 3s 7ms/step - loss: 0.0821 - val_loss: 0.0812\n",
            "Epoch 27/50\n",
            "469/469 [==============================] - 3s 7ms/step - loss: 0.0819 - val_loss: 0.0819\n",
            "Epoch 28/50\n",
            "469/469 [==============================] - 3s 7ms/step - loss: 0.0816 - val_loss: 0.0807\n",
            "Epoch 29/50\n",
            "469/469 [==============================] - 3s 7ms/step - loss: 0.0814 - val_loss: 0.0804\n",
            "Epoch 30/50\n",
            "469/469 [==============================] - 3s 7ms/step - loss: 0.0813 - val_loss: 0.0803\n",
            "Epoch 31/50\n",
            "469/469 [==============================] - 3s 7ms/step - loss: 0.0811 - val_loss: 0.0801\n",
            "Epoch 32/50\n",
            "469/469 [==============================] - 3s 7ms/step - loss: 0.0809 - val_loss: 0.0801\n",
            "Epoch 33/50\n",
            "469/469 [==============================] - 3s 7ms/step - loss: 0.0807 - val_loss: 0.0797\n",
            "Epoch 34/50\n",
            "469/469 [==============================] - 3s 7ms/step - loss: 0.0807 - val_loss: 0.0802\n",
            "Epoch 35/50\n",
            "469/469 [==============================] - 3s 7ms/step - loss: 0.0805 - val_loss: 0.0795\n",
            "Epoch 36/50\n",
            "469/469 [==============================] - 3s 7ms/step - loss: 0.0803 - val_loss: 0.0793\n",
            "Epoch 37/50\n",
            "469/469 [==============================] - 3s 7ms/step - loss: 0.0802 - val_loss: 0.0793\n",
            "Epoch 38/50\n",
            "469/469 [==============================] - 3s 7ms/step - loss: 0.0801 - val_loss: 0.0791\n",
            "Epoch 39/50\n",
            "469/469 [==============================] - 3s 7ms/step - loss: 0.0800 - val_loss: 0.0789\n",
            "Epoch 40/50\n",
            "469/469 [==============================] - 3s 7ms/step - loss: 0.0798 - val_loss: 0.0789\n",
            "Epoch 41/50\n",
            "469/469 [==============================] - 3s 7ms/step - loss: 0.0798 - val_loss: 0.0794\n",
            "Epoch 42/50\n",
            "469/469 [==============================] - 3s 7ms/step - loss: 0.0796 - val_loss: 0.0787\n",
            "Epoch 43/50\n",
            "469/469 [==============================] - 3s 7ms/step - loss: 0.0795 - val_loss: 0.0786\n",
            "Epoch 44/50\n",
            "469/469 [==============================] - 3s 7ms/step - loss: 0.0794 - val_loss: 0.0784\n",
            "Epoch 45/50\n",
            "469/469 [==============================] - 3s 7ms/step - loss: 0.0794 - val_loss: 0.0785\n",
            "Epoch 46/50\n",
            "469/469 [==============================] - 3s 7ms/step - loss: 0.0792 - val_loss: 0.0787\n",
            "Epoch 47/50\n",
            "469/469 [==============================] - 3s 7ms/step - loss: 0.0792 - val_loss: 0.0784\n",
            "Epoch 48/50\n",
            "469/469 [==============================] - 3s 7ms/step - loss: 0.0791 - val_loss: 0.0782\n",
            "Epoch 49/50\n",
            "469/469 [==============================] - 3s 7ms/step - loss: 0.0790 - val_loss: 0.0783\n",
            "Epoch 50/50\n",
            "469/469 [==============================] - 3s 7ms/step - loss: 0.0789 - val_loss: 0.0779\n"
          ]
        }
      ]
    },
    {
      "cell_type": "code",
      "source": [
        "#학습된 결과를 출력하는 부분입니다.\n",
        "ae_imgs = autoencoder.predict(X_test)  #앞서 만든 오토인코더 모델에 집어 넣습니다.\n",
        "\n",
        "plt.figure(figsize=(7, 2))  #출력될 이미지의 크기를 정합니다.\n",
        "\n",
        "for i, image_idx in enumerate(random_test):    #랜덤하게 뽑은 이미지를 차례로 나열합니다.\n",
        "   ax = plt.subplot(2, 7, i + 1) \n",
        "   plt.imshow(X_test[image_idx].reshape(28, 28))  #테스트할 이미지를 먼저 그대로 보여줍니다.\n",
        "   ax.axis('off')\n",
        "   ax = plt.subplot(2, 7, 7 + i +1)\n",
        "   plt.imshow(ae_imgs[image_idx].reshape(28, 28))  #오토인코딩 결과를 다음열에 출력합니다.\n",
        "   ax.axis('off')\n",
        "plt.show()\n",
        "\n",
        "# 첫 번째 줄 사진들이 테스트로 사용된 원본 이미지\n",
        "# 두 번째 줄 사진들이 원본의 특징을 고스란히 담은 채 만들어진 오토인코더 이미지"
      ],
      "metadata": {
        "colab": {
          "base_uri": "https://localhost:8080/",
          "height": 138
        },
        "id": "05c2EAL60Aal",
        "outputId": "c6f24725-7124-4cd8-c4cb-bae7483c5999"
      },
      "execution_count": 6,
      "outputs": [
        {
          "output_type": "display_data",
          "data": {
            "image/png": "[encoded data removed]",
            "text/plain": [
              "<Figure size 504x144 with 10 Axes>"
            ]
          },
          "metadata": {
            "needs_background": "light"
          }
        }
      ]
    }
  ]
}