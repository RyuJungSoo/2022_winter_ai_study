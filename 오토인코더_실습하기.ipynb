{
  "nbformat": 4,
  "nbformat_minor": 0,
  "metadata": {
    "colab": {
      "name": "오토인코더 실습하기.ipynb",
      "provenance": [],
      "authorship_tag": "ABX9TyN34s7IFzpSl86VI1W3Yex8",
      "include_colab_link": true
    },
    "kernelspec": {
      "name": "python3",
      "display_name": "Python 3"
    },
    "language_info": {
      "name": "python"
    },
    "accelerator": "GPU"
  },
  "cells": [
    {
      "cell_type": "markdown",
      "metadata": {
        "id": "view-in-github",
        "colab_type": "text"
      },
      "source": [
        "<a href=\"https://colab.research.google.com/github/RyuJungSoo/2022_winter_ai_study/blob/main/%EC%98%A4%ED%86%A0%EC%9D%B8%EC%BD%94%EB%8D%94_%EC%8B%A4%EC%8A%B5%ED%95%98%EA%B8%B0.ipynb\" target=\"_parent\"><img src=\"https://colab.research.google.com/assets/colab-badge.svg\" alt=\"Open In Colab\"/></a>"
      ]
    },
    {
      "cell_type": "code",
      "execution_count": 1,
      "metadata": {
        "id": "OLwGMK0ZwN_K"
      },
      "outputs": [],
      "source": [
        "from tensorflow.keras.datasets import mnist\n",
        "from tensorflow.keras.models import Sequential, Model\n",
        "from tensorflow.keras.layers import Input, Dense, Conv2D, MaxPooling2D, UpSampling2D, Flatten, Reshape\n",
        "\n",
        "import matplotlib.pyplot as plt\n",
        "import numpy as np"
      ]
    },
    {
      "cell_type": "code",
      "source": [
        "# MNIST 데이터 셋을 호출\n",
        "(X_train, _), (X_test, _) = mnist.load_data()\n",
        "X_train = X_train.reshape(X_train.shape[0], 28, 28, 1).astype('float32') / 255\n",
        "X_test = X_test.reshape(X_test.shape[0], 28, 28, 1).astype('float32') / 255"
      ],
      "metadata": {
        "id": "Mag9zY7mwml8"
      },
      "execution_count": 2,
      "outputs": []
    },
    {
      "cell_type": "code",
      "source": [
        "# 생성자 모델 만들기\n",
        "autoencoder = Sequential()\n",
        "\n",
        "# 인코딩 부분\n",
        "autoencoder.add(Conv2D(16, kernel_size = 3, padding = 'same', input_shape=(28,28,1), activation='relu'))\n",
        "autoencoder.add(MaxPooling2D(pool_size=2, padding='same'))\n",
        "autoencoder.add(Conv2D(8, kernel_size =3, activation='relu', padding='same'))\n",
        "autoencoder.add(MaxPooling2D(pool_size=2, padding='same'))\n",
        "autoencoder.add(Conv2D(8, kernel_size=3, strides=2, padding='same', activation='relu'))\n",
        "\n",
        "# 디코딩 부분\n",
        "autoencoder.add(Conv2D(8, kernel_size=3, padding='same', activation='relu'))\n",
        "autoencoder.add(UpSampling2D())\n",
        "autoencoder.add(Conv2D(16, kernel_size=3, padding='same', activation='relu'))\n",
        "autoencoder.add(UpSampling2D())\n",
        "autoencoder.add(Conv2D(16, kernel_size=3, activation='relu'))\n",
        "autoencoder.add(UpSampling2D())\n",
        "autoencoder.add(Conv2D(1, kernel_size=3, padding='same', activation='sigmoid'))"
      ],
      "metadata": {
        "id": "WWV8_iFXxJ0y"
      },
      "execution_count": 3,
      "outputs": []
    },
    {
      "cell_type": "code",
      "source": [
        "# 전체 구조 확인\n",
        "autoencoder.summary()"
      ],
      "metadata": {
        "colab": {
          "base_uri": "https://localhost:8080/"
        },
        "id": "eHUEtQtUzJHs",
        "outputId": "add807c7-4ab5-433a-9b78-3ccce1c35efc"
      },
      "execution_count": 4,
      "outputs": [
        {
          "output_type": "stream",
          "name": "stdout",
          "text": [
            "Model: \"sequential\"\n",
            "_________________________________________________________________\n",
            " Layer (type)                Output Shape              Param #   \n",
            "=================================================================\n",
            " conv2d (Conv2D)             (None, 28, 28, 16)        160       \n",
            "                                                                 \n",
            " max_pooling2d (MaxPooling2D  (None, 14, 14, 16)       0         \n",
            " )                                                               \n",
            "                                                                 \n",
            " conv2d_1 (Conv2D)           (None, 14, 14, 8)         1160      \n",
            "                                                                 \n",
            " max_pooling2d_1 (MaxPooling  (None, 7, 7, 8)          0         \n",
            " 2D)                                                             \n",
            "                                                                 \n",
            " conv2d_2 (Conv2D)           (None, 4, 4, 8)           584       \n",
            "                                                                 \n",
            " conv2d_3 (Conv2D)           (None, 4, 4, 8)           584       \n",
            "                                                                 \n",
            " up_sampling2d (UpSampling2D  (None, 8, 8, 8)          0         \n",
            " )                                                               \n",
            "                                                                 \n",
            " conv2d_4 (Conv2D)           (None, 8, 8, 16)          1168      \n",
            "                                                                 \n",
            " up_sampling2d_1 (UpSampling  (None, 16, 16, 16)       0         \n",
            " 2D)                                                             \n",
            "                                                                 \n",
            " conv2d_5 (Conv2D)           (None, 14, 14, 16)        2320      \n",
            "                                                                 \n",
            " up_sampling2d_2 (UpSampling  (None, 28, 28, 16)       0         \n",
            " 2D)                                                             \n",
            "                                                                 \n",
            " conv2d_6 (Conv2D)           (None, 28, 28, 1)         145       \n",
            "                                                                 \n",
            "=================================================================\n",
            "Total params: 6,121\n",
            "Trainable params: 6,121\n",
            "Non-trainable params: 0\n",
            "_________________________________________________________________\n"
          ]
        }
      ]
    },
    {
      "cell_type": "code",
      "source": [
        "# 컴파일 및 학습을 하는 부분\n",
        "autoencoder.compile(optimizer='adam', loss='binary_crossentropy')\n",
        "autoencoder.fit(X_train, X_train, epochs=50, batch_size=128, validation_data=(X_test, X_test))\n",
        "\n",
        "# 학습된 결과를 출력하는 부분\n",
        "random_test = np.random.randint(X_test.shape[0], size=5)"
      ],
      "metadata": {
        "colab": {
          "base_uri": "https://localhost:8080/"
        },
        "id": "d3O8CSlazWi7",
        "outputId": "6b4f1b21-a98e-48e3-e5be-11f9ff06a9c7"
      },
      "execution_count": 5,
      "outputs": [
        {
          "output_type": "stream",
          "name": "stdout",
          "text": [
            "Epoch 1/50\n",
            "469/469 [==============================] - 7s 8ms/step - loss: 0.1907 - val_loss: 0.1276\n",
            "Epoch 2/50\n",
            "469/469 [==============================] - 3s 7ms/step - loss: 0.1182 - val_loss: 0.1098\n",
            "Epoch 3/50\n",
            "469/469 [==============================] - 3s 7ms/step - loss: 0.1067 - val_loss: 0.1023\n",
            "Epoch 4/50\n",
            "469/469 [==============================] - 3s 7ms/step - loss: 0.1010 - val_loss: 0.0980\n",
            "Epoch 5/50\n",
            "469/469 [==============================] - 3s 7ms/step - loss: 0.0975 - val_loss: 0.0949\n",
            "Epoch 6/50\n",
            "469/469 [==============================] - 3s 7ms/step - loss: 0.0950 - val_loss: 0.0930\n",
            "Epoch 7/50\n",
            "469/469 [==============================] - 3s 7ms/step - loss: 0.0930 - val_loss: 0.0913\n",
            "Epoch 8/50\n",
            "469/469 [==============================] - 3s 7ms/step - loss: 0.0915 - val_loss: 0.0899\n",
            "Epoch 9/50\n",
            "469/469 [==============================] - 3s 7ms/step - loss: 0.0903 - val_loss: 0.0887\n",
            "Epoch 10/50\n",
            "469/469 [==============================] - 3s 7ms/step - loss: 0.0893 - val_loss: 0.0879\n",
            "Epoch 11/50\n",
            "469/469 [==============================] - 3s 7ms/step - loss: 0.0885 - val_loss: 0.0871\n",
            "Epoch 12/50\n",
            "469/469 [==============================] - 3s 7ms/step - loss: 0.0877 - val_loss: 0.0862\n",
            "Epoch 13/50\n",
            "469/469 [==============================] - 3s 7ms/step - loss: 0.0871 - val_loss: 0.0859\n",
            "Epoch 14/50\n",
            "469/469 [==============================] - 3s 7ms/step - loss: 0.0866 - val_loss: 0.0853\n",
            "Epoch 15/50\n",
            "469/469 [==============================] - 3s 7ms/step - loss: 0.0861 - val_loss: 0.0847\n",
            "Epoch 16/50\n",
            "469/469 [==============================] - 3s 7ms/step - loss: 0.0858 - val_loss: 0.0847\n",
            "Epoch 17/50\n",
            "469/469 [==============================] - 3s 7ms/step - loss: 0.0853 - val_loss: 0.0843\n",
            "Epoch 18/50\n",
            "469/469 [==============================] - 3s 7ms/step - loss: 0.0850 - val_loss: 0.0841\n",
            "Epoch 19/50\n",
            "469/469 [==============================] - 3s 7ms/step - loss: 0.0847 - val_loss: 0.0833\n",
            "Epoch 20/50\n",
            "469/469 [==============================] - 3s 7ms/step - loss: 0.0844 - val_loss: 0.0835\n",
            "Epoch 21/50\n",
            "469/469 [==============================] - 3s 7ms/step - loss: 0.0841 - val_loss: 0.0831\n",
            "Epoch 22/50\n",
            "469/469 [==============================] - 3s 7ms/step - loss: 0.0839 - val_loss: 0.0829\n",
            "Epoch 23/50\n",
            "469/469 [==============================] - 3s 7ms/step - loss: 0.0836 - val_loss: 0.0823\n",
            "Epoch 24/50\n",
            "469/469 [==============================] - 3s 7ms/step - loss: 0.0833 - val_loss: 0.0824\n",
            "Epoch 25/50\n",
            "469/469 [==============================] - 3s 7ms/step - loss: 0.0831 - val_loss: 0.0818\n",
            "Epoch 26/50\n",
            "469/469 [==============================] - 3s 7ms/step - loss: 0.0829 - val_loss: 0.0817\n",
            "Epoch 27/50\n",
            "469/469 [==============================] - 3s 7ms/step - loss: 0.0826 - val_loss: 0.0815\n",
            "Epoch 28/50\n",
            "469/469 [==============================] - 3s 7ms/step - loss: 0.0824 - val_loss: 0.0813\n",
            "Epoch 29/50\n",
            "469/469 [==============================] - 3s 7ms/step - loss: 0.0822 - val_loss: 0.0810\n",
            "Epoch 30/50\n",
            "469/469 [==============================] - 3s 7ms/step - loss: 0.0820 - val_loss: 0.0814\n",
            "Epoch 31/50\n",
            "469/469 [==============================] - 3s 7ms/step - loss: 0.0818 - val_loss: 0.0807\n",
            "Epoch 32/50\n",
            "469/469 [==============================] - 3s 7ms/step - loss: 0.0816 - val_loss: 0.0805\n",
            "Epoch 33/50\n",
            "469/469 [==============================] - 3s 7ms/step - loss: 0.0815 - val_loss: 0.0804\n",
            "Epoch 34/50\n",
            "469/469 [==============================] - 3s 7ms/step - loss: 0.0813 - val_loss: 0.0801\n",
            "Epoch 35/50\n",
            "469/469 [==============================] - 3s 7ms/step - loss: 0.0812 - val_loss: 0.0801\n",
            "Epoch 36/50\n",
            "469/469 [==============================] - 3s 7ms/step - loss: 0.0809 - val_loss: 0.0798\n",
            "Epoch 37/50\n",
            "469/469 [==============================] - 3s 7ms/step - loss: 0.0808 - val_loss: 0.0800\n",
            "Epoch 38/50\n",
            "469/469 [==============================] - 3s 7ms/step - loss: 0.0807 - val_loss: 0.0797\n",
            "Epoch 39/50\n",
            "469/469 [==============================] - 3s 7ms/step - loss: 0.0806 - val_loss: 0.0795\n",
            "Epoch 40/50\n",
            "469/469 [==============================] - 3s 7ms/step - loss: 0.0804 - val_loss: 0.0795\n",
            "Epoch 41/50\n",
            "469/469 [==============================] - 3s 7ms/step - loss: 0.0803 - val_loss: 0.0794\n",
            "Epoch 42/50\n",
            "469/469 [==============================] - 3s 7ms/step - loss: 0.0802 - val_loss: 0.0792\n",
            "Epoch 43/50\n",
            "469/469 [==============================] - 3s 7ms/step - loss: 0.0801 - val_loss: 0.0790\n",
            "Epoch 44/50\n",
            "469/469 [==============================] - 3s 7ms/step - loss: 0.0799 - val_loss: 0.0789\n",
            "Epoch 45/50\n",
            "469/469 [==============================] - 3s 7ms/step - loss: 0.0798 - val_loss: 0.0791\n",
            "Epoch 46/50\n",
            "469/469 [==============================] - 3s 7ms/step - loss: 0.0797 - val_loss: 0.0789\n",
            "Epoch 47/50\n",
            "469/469 [==============================] - 3s 7ms/step - loss: 0.0796 - val_loss: 0.0788\n",
            "Epoch 48/50\n",
            "469/469 [==============================] - 3s 7ms/step - loss: 0.0795 - val_loss: 0.0786\n",
            "Epoch 49/50\n",
            "469/469 [==============================] - 3s 7ms/step - loss: 0.0793 - val_loss: 0.0783\n",
            "Epoch 50/50\n",
            "469/469 [==============================] - 3s 7ms/step - loss: 0.0792 - val_loss: 0.0782\n"
          ]
        }
      ]
    },
    {
      "cell_type": "code",
      "source": [
        "# 테스트할 이미지를 랜덤으로 호출\n",
        "ae_imgs = autoencoder.predict(X_test) # 앞서 만든 오토인코더 모델에 넣기\n",
        "\n",
        "plt.figure(figsize=(7,2)) # 출력 이미지 크기 정하기\n",
        "\n",
        "for i, image_idx in enumerate(random_test):\n",
        "  # 랜덤으로 뽑은 이미지를 차례로 나열\n",
        "  ax = plt.subplot(2, 7, i+1)\n",
        "  # 테스트할 이미지를 먼저 그대로 보여줌\n",
        "  plt.imshow(X_test[image_idx].reshape(28, 28))\n",
        "  ax.axis('off')\n",
        "  ax = plt.subplot(2, 7, 7+i+1)\n",
        "  # 오토인코딩 결과를 다음 열에 입력\n",
        "  plt.imshow(ae_imgs[image_idx].reshape(28,28))\n",
        "  ax.axis('off')\n",
        "plt.show()"
      ],
      "metadata": {
        "colab": {
          "base_uri": "https://localhost:8080/",
          "height": 138
        },
        "id": "05c2EAL60Aal",
        "outputId": "30688885-2d53-4a63-cbeb-9d34c240f947"
      },
      "execution_count": 6,
      "outputs": [
        {
          "output_type": "display_data",
          "data": {
            "image/png": "[encoded data removed]",
            "text/plain": [
              "<Figure size 504x144 with 10 Axes>"
            ]
          },
          "metadata": {
            "needs_background": "light"
          }
        }
      ]
    }
  ]
}