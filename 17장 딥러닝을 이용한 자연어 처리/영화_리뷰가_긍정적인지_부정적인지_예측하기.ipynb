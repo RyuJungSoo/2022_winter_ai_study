{
  "nbformat": 4,
  "nbformat_minor": 0,
  "metadata": {
    "colab": {
      "name": "영화 리뷰가 긍정적인지 부정적인지 예측하기.ipynb",
      "provenance": [],
      "authorship_tag": "ABX9TyPPYM7UWqOEFzaHtQjYKhaN",
      "include_colab_link": true
    },
    "kernelspec": {
      "name": "python3",
      "display_name": "Python 3"
    },
    "language_info": {
      "name": "python"
    }
  },
  "cells": [
    {
      "cell_type": "markdown",
      "metadata": {
        "id": "view-in-github",
        "colab_type": "text"
      },
      "source": [
        "<a href=\"https://colab.research.google.com/github/RyuJungSoo/2022_winter_ai_study/blob/main/%EC%98%81%ED%99%94_%EB%A6%AC%EB%B7%B0%EA%B0%80_%EA%B8%8D%EC%A0%95%EC%A0%81%EC%9D%B8%EC%A7%80_%EB%B6%80%EC%A0%95%EC%A0%81%EC%9D%B8%EC%A7%80_%EC%98%88%EC%B8%A1%ED%95%98%EA%B8%B0.ipynb\" target=\"_parent\"><img src=\"https://colab.research.google.com/assets/colab-badge.svg\" alt=\"Open In Colab\"/></a>"
      ]
    },
    {
      "cell_type": "code",
      "execution_count": 1,
      "metadata": {
        "id": "vZzsAo28nw76"
      },
      "outputs": [],
      "source": [
        "import numpy\n",
        "import tensorflow as tf\n",
        "from numpy import array\n",
        "from tensorflow.keras.preprocessing.text import Tokenizer\n",
        "from tensorflow.keras.preprocessing.sequence import pad_sequences\n",
        "from tensorflow.keras.models import Sequential\n",
        "from tensorflow.keras.layers import Dense,Flatten,Embedding"
      ]
    },
    {
      "cell_type": "code",
      "source": [
        "# 텍스트 리뷰 자료 지정\n",
        "docs = ['너무 재밌네요', '최고예요', '참 잘 만든 영화예요', '추천하고 싶은 영화입니다.', '한번 더 보고싶네요', '글쎼요', '별로예요', '생각보다 지루하네요', '연기가 어색해요', '재미없어요']\n",
        "\n",
        "# 긍정 리뷰는 1, 부정 리뷰는 0으로 클래스 지정\n",
        "classes = array([1,1,1,1,1,0,0,0,0,0])"
      ],
      "metadata": {
        "id": "aFx5pl74o2OH"
      },
      "execution_count": 2,
      "outputs": []
    },
    {
      "cell_type": "code",
      "source": [
        "# 토큰화\n",
        "token = Tokenizer()\n",
        "token.fit_on_texts(docs)\n",
        "print(token.word_index) # 각 단어에 매겨진 인덱스 값 출력\n",
        "x = token.texts_to_sequences(docs) # 토큰에 지정된 인덱스로 새로운 배열을 생성\n",
        "print(\"\\n리뷰 텍스트, 토큰화 결과:\\n\",  x)\n",
        "\n",
        "# 패딩, 서로 다른 길이의 데이터를 4로 맞춤\n",
        "padded_x = pad_sequences(x, 4)\n",
        "print(\"\\n패딩 결과:\\n\", padded_x)"
      ],
      "metadata": {
        "colab": {
          "base_uri": "https://localhost:8080/"
        },
        "id": "nmsAFjqApRW0",
        "outputId": "07b0be5e-a20f-41d9-9dd9-efd240dbd137"
      },
      "execution_count": 3,
      "outputs": [
        {
          "output_type": "stream",
          "name": "stdout",
          "text": [
            "{'너무': 1, '재밌네요': 2, '최고예요': 3, '참': 4, '잘': 5, '만든': 6, '영화예요': 7, '추천하고': 8, '싶은': 9, '영화입니다': 10, '한번': 11, '더': 12, '보고싶네요': 13, '글쎼요': 14, '별로예요': 15, '생각보다': 16, '지루하네요': 17, '연기가': 18, '어색해요': 19, '재미없어요': 20}\n",
            "\n",
            "리뷰 텍스트, 토큰화 결과:\n",
            " [[1, 2], [3], [4, 5, 6, 7], [8, 9, 10], [11, 12, 13], [14], [15], [16, 17], [18, 19], [20]]\n",
            "\n",
            "패딩 결과:\n",
            " [[ 0  0  1  2]\n",
            " [ 0  0  0  3]\n",
            " [ 4  5  6  7]\n",
            " [ 0  8  9 10]\n",
            " [ 0 11 12 13]\n",
            " [ 0  0  0 14]\n",
            " [ 0  0  0 15]\n",
            " [ 0  0 16 17]\n",
            " [ 0  0 18 19]\n",
            " [ 0  0  0 20]]\n"
          ]
        }
      ]
    },
    {
      "cell_type": "code",
      "source": [
        "# 임베딩에 입력될 단어 수 지정\n",
        "word_size = len(token.word_index)+1 # 인덱스 0 때문에 1 더해주기"
      ],
      "metadata": {
        "id": "BstXozbZrxUW"
      },
      "execution_count": 4,
      "outputs": []
    },
    {
      "cell_type": "code",
      "source": [
        "# 단어 임베딩을 포함하여 딥러닝 모델을 만들고 결과 출력\n",
        "model = Sequential()\n",
        "model.add(Embedding(word_size, 8, input_length=4)) # 총 입력되는 단어의 수는 word_size, 임베딩 후 출력되는 벡터의 크기는 8, 매번 단어 4개씩만 들어가기(패딩 과정을 거쳐 길이를 4로 맞췄기 때문)\n",
        "model.add(Flatten()) # Dense 레이어를 쓰기 위해 데이터를 1차원으로 변환\n",
        "model.add(Dense(1, activation='sigmoid'))\n",
        "model.compile(optimizer='adam', loss = 'binary_crossentropy', metrics=['accuracy'])\n",
        "model.fit(padded_x, classes, epochs=20)\n",
        "\n",
        "print(\"\\n Accuracy: %.4f\" %(model.evaluate(padded_x, classes)[1]))"
      ],
      "metadata": {
        "colab": {
          "base_uri": "https://localhost:8080/"
        },
        "id": "JHHM1Xbjr5yE",
        "outputId": "d4c547bb-647c-4d0e-8249-ca06bf4d7911"
      },
      "execution_count": 5,
      "outputs": [
        {
          "output_type": "stream",
          "name": "stdout",
          "text": [
            "Epoch 1/20\n",
            "1/1 [==============================] - 1s 789ms/step - loss: 0.7008 - accuracy: 0.5000\n",
            "Epoch 2/20\n",
            "1/1 [==============================] - 0s 7ms/step - loss: 0.6987 - accuracy: 0.5000\n",
            "Epoch 3/20\n",
            "1/1 [==============================] - 0s 8ms/step - loss: 0.6967 - accuracy: 0.5000\n",
            "Epoch 4/20\n",
            "1/1 [==============================] - 0s 7ms/step - loss: 0.6947 - accuracy: 0.5000\n",
            "Epoch 5/20\n",
            "1/1 [==============================] - 0s 5ms/step - loss: 0.6926 - accuracy: 0.5000\n",
            "Epoch 6/20\n",
            "1/1 [==============================] - 0s 5ms/step - loss: 0.6906 - accuracy: 0.5000\n",
            "Epoch 7/20\n",
            "1/1 [==============================] - 0s 8ms/step - loss: 0.6886 - accuracy: 0.6000\n",
            "Epoch 8/20\n",
            "1/1 [==============================] - 0s 5ms/step - loss: 0.6866 - accuracy: 0.6000\n",
            "Epoch 9/20\n",
            "1/1 [==============================] - 0s 8ms/step - loss: 0.6847 - accuracy: 0.7000\n",
            "Epoch 10/20\n",
            "1/1 [==============================] - 0s 8ms/step - loss: 0.6827 - accuracy: 0.7000\n",
            "Epoch 11/20\n",
            "1/1 [==============================] - 0s 8ms/step - loss: 0.6807 - accuracy: 0.7000\n",
            "Epoch 12/20\n",
            "1/1 [==============================] - 0s 8ms/step - loss: 0.6788 - accuracy: 0.7000\n",
            "Epoch 13/20\n",
            "1/1 [==============================] - 0s 8ms/step - loss: 0.6768 - accuracy: 0.8000\n",
            "Epoch 14/20\n",
            "1/1 [==============================] - 0s 8ms/step - loss: 0.6748 - accuracy: 0.8000\n",
            "Epoch 15/20\n",
            "1/1 [==============================] - 0s 10ms/step - loss: 0.6729 - accuracy: 0.8000\n",
            "Epoch 16/20\n",
            "1/1 [==============================] - 0s 11ms/step - loss: 0.6709 - accuracy: 0.8000\n",
            "Epoch 17/20\n",
            "1/1 [==============================] - 0s 4ms/step - loss: 0.6689 - accuracy: 0.9000\n",
            "Epoch 18/20\n",
            "1/1 [==============================] - 0s 8ms/step - loss: 0.6669 - accuracy: 1.0000\n",
            "Epoch 19/20\n",
            "1/1 [==============================] - 0s 5ms/step - loss: 0.6649 - accuracy: 1.0000\n",
            "Epoch 20/20\n",
            "1/1 [==============================] - 0s 10ms/step - loss: 0.6629 - accuracy: 1.0000\n",
            "1/1 [==============================] - 0s 150ms/step - loss: 0.6609 - accuracy: 1.0000\n",
            "\n",
            " Accuracy: 1.0000\n"
          ]
        }
      ]
    }
  ]
}
