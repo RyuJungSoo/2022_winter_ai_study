{
  "nbformat": 4,
  "nbformat_minor": 0,
  "metadata": {
    "colab": {
      "name": "주어진 문장을 '단어'로 토큰화 하기, 원-핫 인코딩.ipynb",
      "provenance": [],
      "authorship_tag": "ABX9TyOWyKQc+CAbehuBlbEVpkW5",
      "include_colab_link": true
    },
    "kernelspec": {
      "name": "python3",
      "display_name": "Python 3"
    },
    "language_info": {
      "name": "python"
    }
  },
  "cells": [
    {
      "cell_type": "markdown",
      "metadata": {
        "id": "view-in-github",
        "colab_type": "text"
      },
      "source": [
        "<a href=\"https://colab.research.google.com/github/RyuJungSoo/2022_winter_ai_study/blob/main/%EC%A3%BC%EC%96%B4%EC%A7%84_%EB%AC%B8%EC%9E%A5%EC%9D%84_'%EB%8B%A8%EC%96%B4'%EB%A1%9C_%ED%86%A0%ED%81%B0%ED%99%94_%ED%95%98%EA%B8%B0%2C_%EC%9B%90_%ED%95%AB_%EC%9D%B8%EC%BD%94%EB%94%A9.ipynb\" target=\"_parent\"><img src=\"https://colab.research.google.com/assets/colab-badge.svg\" alt=\"Open In Colab\"/></a>"
      ]
    },
    {
      "cell_type": "markdown",
      "source": [
        "토큰화"
      ],
      "metadata": {
        "id": "0eDtVORFQwyN"
      }
    },
    {
      "cell_type": "code",
      "execution_count": 1,
      "metadata": {
        "colab": {
          "base_uri": "https://localhost:8080/"
        },
        "id": "TaY5ZwoN7ZFy",
        "outputId": "2210b013-391b-4534-e1f3-bf4265952990"
      },
      "outputs": [
        {
          "output_type": "stream",
          "name": "stdout",
          "text": [
            "\n",
            "원문:\n",
            " 해보지 않으면 해낼 수 없다\n",
            "\n",
            "토큰화:\n",
            " ['해보지', '않으면', '해낼', '수', '없다']\n"
          ]
        }
      ],
      "source": [
        "# 텍스트 전처리 함수 text_to_word_sequence() 호출\n",
        "from tensorflow.keras.preprocessing.text import text_to_word_sequence\n",
        "\n",
        "# 전처리할 텍스트 정하기\n",
        "text = '해보지 않으면 해낼 수 없다'\n",
        "\n",
        "# 해당 텍스트 토큰화\n",
        "result = text_to_word_sequence(text)\n",
        "print(\"\\n원문:\\n\", text)\n",
        "print(\"\\n토큰화:\\n\", result)"
      ]
    },
    {
      "cell_type": "code",
      "source": [
        "# 텍스트 전처리 함수 Tokenizer() 호출\n",
        "from keras.preprocessing.text import Tokenizer\n",
        "\n",
        "# 전처리하려는 세 개의 문장 정하기\n",
        "docs = ['먼저 텍스트의 각 단어를 나누어 토큰화 합니다',\n",
        "        '텍스트의 단어로 토큰화 해야 딥러닝에서 인식됩니다.',\n",
        "        '토큰화 한 결과는 딥러닝에서 사용할 수 있습니다']\n",
        "\n",
        "# 토큰화 함수를 이용해 전처리하는 과정\n",
        "token = Tokenizer() # 토큰화 함수 지정\n",
        "token.fit_on_texts(docs) # 토큰화 함수에 문장 적용하기\n",
        "\n",
        "# 각 옵션에 맞춰 단어의 빈도 수를 계산한 결과 출력 (OrderedDict 클래스에 담겨 있는 형태로 출력)\n",
        "print(\"\\n단어 카운트:\\n\", token.word_counts) \n",
        "\n",
        "print(\"\\n문장 카운트: \", token.document_count)\n",
        "print(\"\\n각 단어가 몇 개의 문장에 포함되어 있는가:\\n\", token.word_docs) # 출력되는 순서는 랜덤\n",
        "print(\"\\n각 단어에 매겨진 인덱스 값:\\n\", token.word_index) # 각 단어의 빈도수가 높은 순서대로 인덱스가 부여됨"
      ],
      "metadata": {
        "colab": {
          "base_uri": "https://localhost:8080/"
        },
        "id": "O-6iTIUS9LYS",
        "outputId": "7ec9884c-ee42-458d-f603-4dbfe2adb8f6"
      },
      "execution_count": 2,
      "outputs": [
        {
          "output_type": "stream",
          "name": "stdout",
          "text": [
            "\n",
            "단어 카운트:\n",
            " OrderedDict([('먼저', 1), ('텍스트의', 2), ('각', 1), ('단어를', 1), ('나누어', 1), ('토큰화', 3), ('합니다', 1), ('단어로', 1), ('해야', 1), ('딥러닝에서', 2), ('인식됩니다', 1), ('한', 1), ('결과는', 1), ('사용할', 1), ('수', 1), ('있습니다', 1)])\n",
            "\n",
            "문장 카운트:  3\n",
            "\n",
            "각 단어가 몇 개의 문장에 포함되어 있는가:\n",
            " defaultdict(<class 'int'>, {'텍스트의': 2, '토큰화': 3, '각': 1, '먼저': 1, '단어를': 1, '나누어': 1, '합니다': 1, '단어로': 1, '인식됩니다': 1, '해야': 1, '딥러닝에서': 2, '사용할': 1, '있습니다': 1, '결과는': 1, '한': 1, '수': 1})\n",
            "\n",
            "각 단어에 매겨진 인덱스 값:\n",
            " {'토큰화': 1, '텍스트의': 2, '딥러닝에서': 3, '먼저': 4, '각': 5, '단어를': 6, '나누어': 7, '합니다': 8, '단어로': 9, '해야': 10, '인식됩니다': 11, '한': 12, '결과는': 13, '사용할': 14, '수': 15, '있습니다': 16}\n"
          ]
        }
      ]
    },
    {
      "cell_type": "markdown",
      "source": [
        "원-핫 인코딩"
      ],
      "metadata": {
        "id": "kiDTtoydQzvB"
      }
    },
    {
      "cell_type": "code",
      "source": [
        "from tensorflow.keras.preprocessing.text import Tokenizer\n",
        "\n",
        "text = \"오랫동안 꿈꾸는 이는 그 꿈을 닮아간다\"\n",
        "\n",
        "token = Tokenizer()\n",
        "token.fit_on_texts([text])\n",
        "print(token.word_index)"
      ],
      "metadata": {
        "colab": {
          "base_uri": "https://localhost:8080/"
        },
        "id": "fQsaM0qiQ1Pk",
        "outputId": "cfcba775-327b-4f78-a006-b19ad21da7b4"
      },
      "execution_count": 4,
      "outputs": [
        {
          "output_type": "stream",
          "name": "stdout",
          "text": [
            "{'오랫동안': 1, '꿈꾸는': 2, '이는': 3, '그': 4, '꿈을': 5, '닮아간다': 6}\n"
          ]
        }
      ]
    },
    {
      "cell_type": "code",
      "source": [
        "x = token.texts_to_sequences([text])\n",
        "print(x)"
      ],
      "metadata": {
        "colab": {
          "base_uri": "https://localhost:8080/"
        },
        "id": "MmMgM6ZdUzcf",
        "outputId": "23f186da-a6fd-45ce-ae01-8d2470b06b03"
      },
      "execution_count": 12,
      "outputs": [
        {
          "output_type": "stream",
          "name": "stdout",
          "text": [
            "[[1, 2, 3, 4, 5, 6]]\n"
          ]
        }
      ]
    },
    {
      "cell_type": "code",
      "source": [
        "import numpy as np\n",
        "from keras.utils import np_utils\n",
        "\n",
        "# 인덱스 수에 하나를 추가해서 원-핫 인코딩 배열 만들기\n",
        "word_size = len(token.word_index) + 1\n",
        "x = np_utils.to_categorical(x, num_classes=word_size)\n",
        "\n",
        "print(x)"
      ],
      "metadata": {
        "colab": {
          "base_uri": "https://localhost:8080/"
        },
        "id": "wugDOs1jTJf0",
        "outputId": "7fea57b9-aa22-4ba0-febc-e31bc5023a7e"
      },
      "execution_count": 13,
      "outputs": [
        {
          "output_type": "stream",
          "name": "stdout",
          "text": [
            "[[[0. 1. 0. 0. 0. 0. 0.]\n",
            "  [0. 0. 1. 0. 0. 0. 0.]\n",
            "  [0. 0. 0. 1. 0. 0. 0.]\n",
            "  [0. 0. 0. 0. 1. 0. 0.]\n",
            "  [0. 0. 0. 0. 0. 1. 0.]\n",
            "  [0. 0. 0. 0. 0. 0. 1.]]]\n"
          ]
        }
      ]
    }
  ]
}